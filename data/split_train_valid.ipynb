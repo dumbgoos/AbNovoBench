{
 "cells": [
  {
   "cell_type": "code",
   "execution_count": 1,
   "metadata": {},
   "outputs": [
    {
     "name": "stdout",
     "output_type": "stream",
     "text": [
      "Starting the splitting process...\n"
     ]
    },
    {
     "name": "stderr",
     "output_type": "stream",
     "text": [
      "Reading spectra: 1528127spectrum [04:01, 6325.33spectrum/s] \n",
      "Splitting spectra: 100%|██████████| 1528127/1528127 [06:35<00:00, 3865.49spectrum/s]\n"
     ]
    },
    {
     "name": "stdout",
     "output_type": "stream",
     "text": [
      "Splitting completed. Check the output files.\n"
     ]
    }
   ],
   "source": [
    "import random\n",
    "from pyteomics import mgf\n",
    "from tqdm import tqdm\n",
    "\n",
    "def split_for_training(fn: str) -> None:\n",
    "    \"\"\"\n",
    "    Splits an MGF file into training and validation subsets. Ensures that\n",
    "    peptides in the validation set are unique and do not overlap with the training set.\n",
    "\n",
    "    Args:\n",
    "        fn (str): The input MGF file name.\n",
    "    \"\"\"\n",
    "\n",
    "    # Open files for reading and writing\n",
    "    file1 = open(fn, \"r\")\n",
    "    valid_f = open(fn.replace(\".mgf\", \"_valid.mgf\"), \"w\")\n",
    "    training_f = open(fn.replace(\".mgf\", \"_train.mgf\"), \"w\")\n",
    "\n",
    "    # Read spectra from MGF file\n",
    "    sps = mgf.read(file1, convert_arrays=1, read_charges=False, dtype='float32', use_index=False)\n",
    "    list_of_spectra = [sp for sp in tqdm(sps, desc=\"Reading spectra\", unit=\"spectrum\")]\n",
    "\n",
    "    # Shuffle spectra to randomize distribution\n",
    "    random.shuffle(list_of_spectra)\n",
    "\n",
    "    # Extract unique sequences from spectra\n",
    "    seq_all = [sp['params']['seq'] for sp in list_of_spectra if 'seq' in sp['params']]\n",
    "    seq_all = list(dict.fromkeys(seq_all))  # Remove duplicate sequences\n",
    "\n",
    "    # Determine validation set size (1% of total unique sequences)\n",
    "    seq_all_length = max(1, len(seq_all) // 100)\n",
    "\n",
    "    # Randomly sample sequences for the validation set\n",
    "    random.seed(385)\n",
    "    valid_list = set(random.sample(seq_all, seq_all_length * 2))\n",
    "\n",
    "    # Write spectra to the appropriate output files based on their sequence\n",
    "    for sp in tqdm(list_of_spectra, desc=\"Splitting spectra\", unit=\"spectrum\"):\n",
    "        param = sp['params']\n",
    "        if 'seq' in param and len(sp['m/z array']) > 0:\n",
    "            if param['seq'] in valid_list:\n",
    "                write_spectrum_to_file(valid_f, param, sp)\n",
    "            else:\n",
    "                write_spectrum_to_file(training_f, param, sp)\n",
    "\n",
    "    valid_f.close()\n",
    "    training_f.close()\n",
    "\n",
    "def write_spectrum_to_file(file, params: dict, spectrum: dict) -> None:\n",
    "    \"\"\"\n",
    "    Writes a spectrum to the given file in MGF format.\n",
    "\n",
    "    Args:\n",
    "        file (file object): The file to write to.\n",
    "        params (dict): The spectrum parameters.\n",
    "        spectrum (dict): The spectrum data including m/z and intensity arrays.\n",
    "    \"\"\"\n",
    "    file.write(\"BEGIN IONS\\n\")\n",
    "    file.write(f\"TITLE={params['title']}\\n\")\n",
    "    file.write(f\"PEPMASS={params['pepmass'][0]}\\n\")\n",
    "    file.write(f\"CHARGE={params['charge']}\\n\")\n",
    "    file.write(f\"SCANS={params['scans']}\\n\")\n",
    "    file.write(f\"RTINSECONDS={params['rtinseconds']}\\n\")\n",
    "    file.write(f\"SEQ={params['seq']}\\n\")\n",
    "    for mz, intensity in zip(spectrum['m/z array'], spectrum['intensity array']):\n",
    "        file.write(f\"{mz} {intensity}\\n\")\n",
    "    file.write(\"END IONS\\n\")\n",
    "\n",
    "if __name__ == \"__main__\":\n",
    "    input_file = \"./data/nine_species_all.mgf\"\n",
    "    print(\"Starting the splitting process...\")\n",
    "    split_for_training(input_file)\n",
    "    print(\"Splitting completed. Check the output files.\")"
   ]
  }
 ],
 "metadata": {
  "kernelspec": {
   "display_name": "casanovo_3.2.0",
   "language": "python",
   "name": "python3"
  },
  "language_info": {
   "codemirror_mode": {
    "name": "ipython",
    "version": 3
   },
   "file_extension": ".py",
   "mimetype": "text/x-python",
   "name": "python",
   "nbconvert_exporter": "python",
   "pygments_lexer": "ipython3",
   "version": "3.10.16"
  }
 },
 "nbformat": 4,
 "nbformat_minor": 2
}
